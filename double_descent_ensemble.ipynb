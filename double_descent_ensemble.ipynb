{
  "nbformat": 4,
  "nbformat_minor": 0,
  "metadata": {
    "colab": {
      "provenance": [],
      "gpuType": "T4",
      "authorship_tag": "ABX9TyNIHbu5mZAYFiHq30jAreaa",
      "include_colab_link": true
    },
    "kernelspec": {
      "name": "python3",
      "display_name": "Python 3"
    },
    "language_info": {
      "name": "python"
    }
  },
  "cells": [
    {
      "cell_type": "markdown",
      "metadata": {
        "id": "view-in-github",
        "colab_type": "text"
      },
      "source": [
        "<a href=\"https://colab.research.google.com/github/aaz25/431-2021/blob/main/double_descent_ensemble.ipynb\" target=\"_parent\"><img src=\"https://colab.research.google.com/assets/colab-badge.svg\" alt=\"Open In Colab\"/></a>"
      ]
    },
    {
      "cell_type": "markdown",
      "source": [
        "# Package Installation"
      ],
      "metadata": {
        "id": "veY0XmGJzmc2"
      }
    },
    {
      "cell_type": "code",
      "source": [
        "! pip install scikit-survival\n",
        "! pip install pycox"
      ],
      "metadata": {
        "colab": {
          "base_uri": "https://localhost:8080/"
        },
        "id": "OvnuF3jjzqR6",
        "outputId": "2c381c63-f3fd-4c92-e713-7b07ae367513"
      },
      "execution_count": null,
      "outputs": [
        {
          "output_type": "stream",
          "name": "stdout",
          "text": [
            "Looking in indexes: https://pypi.org/simple, https://us-python.pkg.dev/colab-wheels/public/simple/\n",
            "Collecting scikit-survival\n",
            "  Downloading scikit_survival-0.21.0-cp310-cp310-manylinux_2_17_x86_64.manylinux2014_x86_64.whl (3.3 MB)\n",
            "\u001b[2K     \u001b[90m━━━━━━━━━━━━━━━━━━━━━━━━━━━━━━━━━━━━━━━━\u001b[0m \u001b[32m3.3/3.3 MB\u001b[0m \u001b[31m31.8 MB/s\u001b[0m eta \u001b[36m0:00:00\u001b[0m\n",
            "\u001b[?25hRequirement already satisfied: ecos in /usr/local/lib/python3.10/dist-packages (from scikit-survival) (2.0.12)\n",
            "Requirement already satisfied: joblib in /usr/local/lib/python3.10/dist-packages (from scikit-survival) (1.2.0)\n",
            "Requirement already satisfied: numexpr in /usr/local/lib/python3.10/dist-packages (from scikit-survival) (2.8.4)\n",
            "Requirement already satisfied: numpy in /usr/local/lib/python3.10/dist-packages (from scikit-survival) (1.22.4)\n",
            "Requirement already satisfied: osqp!=0.6.0,!=0.6.1 in /usr/local/lib/python3.10/dist-packages (from scikit-survival) (0.6.2.post8)\n",
            "Requirement already satisfied: pandas>=1.0.5 in /usr/local/lib/python3.10/dist-packages (from scikit-survival) (1.5.3)\n",
            "Requirement already satisfied: scipy>=1.3.2 in /usr/local/lib/python3.10/dist-packages (from scikit-survival) (1.10.1)\n",
            "Requirement already satisfied: scikit-learn<1.3,>=1.2.0 in /usr/local/lib/python3.10/dist-packages (from scikit-survival) (1.2.2)\n",
            "Requirement already satisfied: qdldl in /usr/local/lib/python3.10/dist-packages (from osqp!=0.6.0,!=0.6.1->scikit-survival) (0.1.7)\n",
            "Requirement already satisfied: python-dateutil>=2.8.1 in /usr/local/lib/python3.10/dist-packages (from pandas>=1.0.5->scikit-survival) (2.8.2)\n",
            "Requirement already satisfied: pytz>=2020.1 in /usr/local/lib/python3.10/dist-packages (from pandas>=1.0.5->scikit-survival) (2022.7.1)\n",
            "Requirement already satisfied: threadpoolctl>=2.0.0 in /usr/local/lib/python3.10/dist-packages (from scikit-learn<1.3,>=1.2.0->scikit-survival) (3.1.0)\n",
            "Requirement already satisfied: six>=1.5 in /usr/local/lib/python3.10/dist-packages (from python-dateutil>=2.8.1->pandas>=1.0.5->scikit-survival) (1.16.0)\n",
            "Installing collected packages: scikit-survival\n",
            "Successfully installed scikit-survival-0.21.0\n",
            "Looking in indexes: https://pypi.org/simple, https://us-python.pkg.dev/colab-wheels/public/simple/\n",
            "Collecting pycox\n",
            "  Downloading pycox-0.2.3-py3-none-any.whl (73 kB)\n",
            "\u001b[2K     \u001b[90m━━━━━━━━━━━━━━━━━━━━━━━━━━━━━━━━━━━━━━━━\u001b[0m \u001b[32m73.7/73.7 kB\u001b[0m \u001b[31m2.7 MB/s\u001b[0m eta \u001b[36m0:00:00\u001b[0m\n",
            "\u001b[?25hCollecting torchtuples>=0.2.0 (from pycox)\n",
            "  Downloading torchtuples-0.2.2-py3-none-any.whl (41 kB)\n",
            "\u001b[2K     \u001b[90m━━━━━━━━━━━━━━━━━━━━━━━━━━━━━━━━━━━━━━━━\u001b[0m \u001b[32m41.9/41.9 kB\u001b[0m \u001b[31m4.2 MB/s\u001b[0m eta \u001b[36m0:00:00\u001b[0m\n",
            "\u001b[?25hCollecting feather-format>=0.4.0 (from pycox)\n",
            "  Downloading feather-format-0.4.1.tar.gz (3.2 kB)\n",
            "  Preparing metadata (setup.py) ... \u001b[?25l\u001b[?25hdone\n",
            "Requirement already satisfied: h5py>=2.9.0 in /usr/local/lib/python3.10/dist-packages (from pycox) (3.8.0)\n",
            "Requirement already satisfied: numba>=0.44 in /usr/local/lib/python3.10/dist-packages (from pycox) (0.56.4)\n",
            "Requirement already satisfied: scikit-learn>=0.21.2 in /usr/local/lib/python3.10/dist-packages (from pycox) (1.2.2)\n",
            "Requirement already satisfied: requests>=2.22.0 in /usr/local/lib/python3.10/dist-packages (from pycox) (2.27.1)\n",
            "Collecting py7zr>=0.11.3 (from pycox)\n",
            "  Downloading py7zr-0.20.5-py3-none-any.whl (66 kB)\n",
            "\u001b[2K     \u001b[90m━━━━━━━━━━━━━━━━━━━━━━━━━━━━━━━━━━━━━━━━\u001b[0m \u001b[32m66.4/66.4 kB\u001b[0m \u001b[31m7.1 MB/s\u001b[0m eta \u001b[36m0:00:00\u001b[0m\n",
            "\u001b[?25hRequirement already satisfied: pyarrow>=0.4.0 in /usr/local/lib/python3.10/dist-packages (from feather-format>=0.4.0->pycox) (9.0.0)\n",
            "Requirement already satisfied: numpy>=1.14.5 in /usr/local/lib/python3.10/dist-packages (from h5py>=2.9.0->pycox) (1.22.4)\n",
            "Requirement already satisfied: llvmlite<0.40,>=0.39.0dev0 in /usr/local/lib/python3.10/dist-packages (from numba>=0.44->pycox) (0.39.1)\n",
            "Requirement already satisfied: setuptools in /usr/local/lib/python3.10/dist-packages (from numba>=0.44->pycox) (67.7.2)\n",
            "Collecting texttable (from py7zr>=0.11.3->pycox)\n",
            "  Downloading texttable-1.6.7-py2.py3-none-any.whl (10 kB)\n",
            "Collecting pycryptodomex>=3.6.6 (from py7zr>=0.11.3->pycox)\n",
            "  Downloading pycryptodomex-3.18.0-cp35-abi3-manylinux_2_17_x86_64.manylinux2014_x86_64.whl (2.1 MB)\n",
            "\u001b[2K     \u001b[90m━━━━━━━━━━━━━━━━━━━━━━━━━━━━━━━━━━━━━━━━\u001b[0m \u001b[32m2.1/2.1 MB\u001b[0m \u001b[31m35.5 MB/s\u001b[0m eta \u001b[36m0:00:00\u001b[0m\n",
            "\u001b[?25hCollecting pyzstd>=0.14.4 (from py7zr>=0.11.3->pycox)\n",
            "  Downloading pyzstd-0.15.7-cp310-cp310-manylinux_2_17_x86_64.manylinux2014_x86_64.whl (399 kB)\n",
            "\u001b[2K     \u001b[90m━━━━━━━━━━━━━━━━━━━━━━━━━━━━━━━━━━━━━━\u001b[0m \u001b[32m399.3/399.3 kB\u001b[0m \u001b[31m32.6 MB/s\u001b[0m eta \u001b[36m0:00:00\u001b[0m\n",
            "\u001b[?25hCollecting pyppmd<1.1.0,>=0.18.1 (from py7zr>=0.11.3->pycox)\n",
            "  Downloading pyppmd-1.0.0-cp310-cp310-manylinux_2_17_x86_64.manylinux2014_x86_64.whl (138 kB)\n",
            "\u001b[2K     \u001b[90m━━━━━━━━━━━━━━━━━━━━━━━━━━━━━━━━━━━━━━\u001b[0m \u001b[32m138.8/138.8 kB\u001b[0m \u001b[31m14.0 MB/s\u001b[0m eta \u001b[36m0:00:00\u001b[0m\n",
            "\u001b[?25hCollecting pybcj>=0.6.0 (from py7zr>=0.11.3->pycox)\n",
            "  Downloading pybcj-1.0.1-cp310-cp310-manylinux_2_17_x86_64.manylinux2014_x86_64.whl (49 kB)\n",
            "\u001b[2K     \u001b[90m━━━━━━━━━━━━━━━━━━━━━━━━━━━━━━━━━━━━━━━━\u001b[0m \u001b[32m49.8/49.8 kB\u001b[0m \u001b[31m4.9 MB/s\u001b[0m eta \u001b[36m0:00:00\u001b[0m\n",
            "\u001b[?25hCollecting multivolumefile>=0.2.3 (from py7zr>=0.11.3->pycox)\n",
            "  Downloading multivolumefile-0.2.3-py3-none-any.whl (17 kB)\n",
            "Collecting brotli>=1.0.9 (from py7zr>=0.11.3->pycox)\n",
            "  Downloading Brotli-1.0.9-cp310-cp310-manylinux_2_5_x86_64.manylinux1_x86_64.manylinux_2_12_x86_64.manylinux2010_x86_64.whl (2.7 MB)\n",
            "\u001b[2K     \u001b[90m━━━━━━━━━━━━━━━━━━━━━━━━━━━━━━━━━━━━━━━━\u001b[0m \u001b[32m2.7/2.7 MB\u001b[0m \u001b[31m60.4 MB/s\u001b[0m eta \u001b[36m0:00:00\u001b[0m\n",
            "\u001b[?25hCollecting inflate64>=0.3.1 (from py7zr>=0.11.3->pycox)\n",
            "  Downloading inflate64-0.3.1-cp310-cp310-manylinux_2_17_x86_64.manylinux2014_x86_64.whl (93 kB)\n",
            "\u001b[2K     \u001b[90m━━━━━━━━━━━━━━━━━━━━━━━━━━━━━━━━━━━━━━━━\u001b[0m \u001b[32m93.1/93.1 kB\u001b[0m \u001b[31m8.7 MB/s\u001b[0m eta \u001b[36m0:00:00\u001b[0m\n",
            "\u001b[?25hRequirement already satisfied: psutil in /usr/local/lib/python3.10/dist-packages (from py7zr>=0.11.3->pycox) (5.9.5)\n",
            "Requirement already satisfied: urllib3<1.27,>=1.21.1 in /usr/local/lib/python3.10/dist-packages (from requests>=2.22.0->pycox) (1.26.15)\n",
            "Requirement already satisfied: certifi>=2017.4.17 in /usr/local/lib/python3.10/dist-packages (from requests>=2.22.0->pycox) (2022.12.7)\n",
            "Requirement already satisfied: charset-normalizer~=2.0.0 in /usr/local/lib/python3.10/dist-packages (from requests>=2.22.0->pycox) (2.0.12)\n",
            "Requirement already satisfied: idna<4,>=2.5 in /usr/local/lib/python3.10/dist-packages (from requests>=2.22.0->pycox) (3.4)\n",
            "Requirement already satisfied: scipy>=1.3.2 in /usr/local/lib/python3.10/dist-packages (from scikit-learn>=0.21.2->pycox) (1.10.1)\n",
            "Requirement already satisfied: joblib>=1.1.1 in /usr/local/lib/python3.10/dist-packages (from scikit-learn>=0.21.2->pycox) (1.2.0)\n",
            "Requirement already satisfied: threadpoolctl>=2.0.0 in /usr/local/lib/python3.10/dist-packages (from scikit-learn>=0.21.2->pycox) (3.1.0)\n",
            "Requirement already satisfied: pandas>=0.24.2 in /usr/local/lib/python3.10/dist-packages (from torchtuples>=0.2.0->pycox) (1.5.3)\n",
            "Requirement already satisfied: matplotlib>=3.0.3 in /usr/local/lib/python3.10/dist-packages (from torchtuples>=0.2.0->pycox) (3.7.1)\n",
            "Requirement already satisfied: contourpy>=1.0.1 in /usr/local/lib/python3.10/dist-packages (from matplotlib>=3.0.3->torchtuples>=0.2.0->pycox) (1.0.7)\n",
            "Requirement already satisfied: cycler>=0.10 in /usr/local/lib/python3.10/dist-packages (from matplotlib>=3.0.3->torchtuples>=0.2.0->pycox) (0.11.0)\n",
            "Requirement already satisfied: fonttools>=4.22.0 in /usr/local/lib/python3.10/dist-packages (from matplotlib>=3.0.3->torchtuples>=0.2.0->pycox) (4.39.3)\n",
            "Requirement already satisfied: kiwisolver>=1.0.1 in /usr/local/lib/python3.10/dist-packages (from matplotlib>=3.0.3->torchtuples>=0.2.0->pycox) (1.4.4)\n",
            "Requirement already satisfied: packaging>=20.0 in /usr/local/lib/python3.10/dist-packages (from matplotlib>=3.0.3->torchtuples>=0.2.0->pycox) (23.1)\n",
            "Requirement already satisfied: pillow>=6.2.0 in /usr/local/lib/python3.10/dist-packages (from matplotlib>=3.0.3->torchtuples>=0.2.0->pycox) (8.4.0)\n",
            "Requirement already satisfied: pyparsing>=2.3.1 in /usr/local/lib/python3.10/dist-packages (from matplotlib>=3.0.3->torchtuples>=0.2.0->pycox) (3.0.9)\n",
            "Requirement already satisfied: python-dateutil>=2.7 in /usr/local/lib/python3.10/dist-packages (from matplotlib>=3.0.3->torchtuples>=0.2.0->pycox) (2.8.2)\n",
            "Requirement already satisfied: pytz>=2020.1 in /usr/local/lib/python3.10/dist-packages (from pandas>=0.24.2->torchtuples>=0.2.0->pycox) (2022.7.1)\n",
            "Requirement already satisfied: six>=1.5 in /usr/local/lib/python3.10/dist-packages (from python-dateutil>=2.7->matplotlib>=3.0.3->torchtuples>=0.2.0->pycox) (1.16.0)\n",
            "Building wheels for collected packages: feather-format\n",
            "  Building wheel for feather-format (setup.py) ... \u001b[?25l\u001b[?25hdone\n",
            "  Created wheel for feather-format: filename=feather_format-0.4.1-py3-none-any.whl size=2440 sha256=bb34d658454a08cfb711a6ad50fede206cc689cfaa406b93321329ea8cb978a9\n",
            "  Stored in directory: /root/.cache/pip/wheels/a6/ff/5d/4f10de26fe5ddef243c97f13c6cf579d7353d659e41a05c3a6\n",
            "Successfully built feather-format\n",
            "Installing collected packages: texttable, brotli, pyzstd, pyppmd, pycryptodomex, pybcj, multivolumefile, inflate64, py7zr, feather-format, torchtuples, pycox\n",
            "Successfully installed brotli-1.0.9 feather-format-0.4.1 inflate64-0.3.1 multivolumefile-0.2.3 py7zr-0.20.5 pybcj-1.0.1 pycox-0.2.3 pycryptodomex-3.18.0 pyppmd-1.0.0 pyzstd-0.15.7 texttable-1.6.7 torchtuples-0.2.2\n"
          ]
        }
      ]
    },
    {
      "cell_type": "markdown",
      "source": [
        "# Setup"
      ],
      "metadata": {
        "id": "cFzg6TKSxGFY"
      }
    },
    {
      "cell_type": "code",
      "execution_count": null,
      "metadata": {
        "id": "-hi4RUDswmyH"
      },
      "outputs": [],
      "source": [
        "import pandas as pd\n",
        "import matplotlib.pyplot as plt\n",
        "import numpy as np\n",
        "import math\n",
        "import seaborn as sns\n",
        "\n",
        "%matplotlib inline\n",
        "\n",
        "from sklearn import set_config\n",
        "from sklearn_pandas import DataFrameMapper\n",
        "from sklearn.model_selection import GridSearchCV\n",
        "\n",
        "from sksurv.preprocessing import OneHotEncoder\n",
        "from sksurv.ensemble import RandomSurvivalForest, GradientBoostingSurvivalAnalysis\n",
        "from sksurv.metrics import integrated_brier_score, as_integrated_brier_score_scorer\n",
        "\n",
        "from pycox.datasets import flchain"
      ]
    },
    {
      "cell_type": "code",
      "source": [
        "np.random.seed(123)"
      ],
      "metadata": {
        "id": "rU9tKINhz8PI"
      },
      "execution_count": null,
      "outputs": []
    },
    {
      "cell_type": "markdown",
      "source": [
        "# Dataset"
      ],
      "metadata": {
        "id": "vqAV9beKz0I9"
      }
    },
    {
      "cell_type": "code",
      "source": [
        "df_train = flchain.read_df()\n",
        "df_test = df_train.sample(frac=0.2)\n",
        "df_train = df_train.drop(df_test.index)"
      ],
      "metadata": {
        "colab": {
          "base_uri": "https://localhost:8080/"
        },
        "id": "Z58LTsAqz1Xi",
        "outputId": "3e0feeed-ac4b-438e-d30d-8a54e38a33b9"
      },
      "execution_count": null,
      "outputs": [
        {
          "output_type": "stream",
          "name": "stdout",
          "text": [
            "Dataset 'flchain' not locally available. Downloading...\n",
            "Done\n"
          ]
        }
      ]
    },
    {
      "cell_type": "code",
      "source": [
        "df_train.head()"
      ],
      "metadata": {
        "colab": {
          "base_uri": "https://localhost:8080/",
          "height": 206
        },
        "id": "thvWhr3-0pFO",
        "outputId": "09e2a25f-aa4c-4d5d-be3e-8bdea1cdb867"
      },
      "execution_count": null,
      "outputs": [
        {
          "output_type": "execute_result",
          "data": {
            "text/plain": [
              "    age  sex sample.yr  kappa  lambda flc.grp  creatinine  mgus  futime  death\n",
              "0  97.0  0.0      1997   5.70   4.860      10         1.7   0.0    85.0    1.0\n",
              "1  92.0  0.0      2000   0.87   0.683       1         0.9   0.0  1281.0    1.0\n",
              "2  94.0  0.0      1997   4.36   3.850      10         1.4   0.0    69.0    1.0\n",
              "3  92.0  0.0      1996   2.42   2.220       9         1.0   0.0   115.0    1.0\n",
              "5  90.0  0.0      1997   2.01   1.860       9         1.0   0.0  1355.0    1.0"
            ],
            "text/html": [
              "\n",
              "  <div id=\"df-577c288e-da35-4604-b613-ce30a708658e\">\n",
              "    <div class=\"colab-df-container\">\n",
              "      <div>\n",
              "<style scoped>\n",
              "    .dataframe tbody tr th:only-of-type {\n",
              "        vertical-align: middle;\n",
              "    }\n",
              "\n",
              "    .dataframe tbody tr th {\n",
              "        vertical-align: top;\n",
              "    }\n",
              "\n",
              "    .dataframe thead th {\n",
              "        text-align: right;\n",
              "    }\n",
              "</style>\n",
              "<table border=\"1\" class=\"dataframe\">\n",
              "  <thead>\n",
              "    <tr style=\"text-align: right;\">\n",
              "      <th></th>\n",
              "      <th>age</th>\n",
              "      <th>sex</th>\n",
              "      <th>sample.yr</th>\n",
              "      <th>kappa</th>\n",
              "      <th>lambda</th>\n",
              "      <th>flc.grp</th>\n",
              "      <th>creatinine</th>\n",
              "      <th>mgus</th>\n",
              "      <th>futime</th>\n",
              "      <th>death</th>\n",
              "    </tr>\n",
              "  </thead>\n",
              "  <tbody>\n",
              "    <tr>\n",
              "      <th>0</th>\n",
              "      <td>97.0</td>\n",
              "      <td>0.0</td>\n",
              "      <td>1997</td>\n",
              "      <td>5.70</td>\n",
              "      <td>4.860</td>\n",
              "      <td>10</td>\n",
              "      <td>1.7</td>\n",
              "      <td>0.0</td>\n",
              "      <td>85.0</td>\n",
              "      <td>1.0</td>\n",
              "    </tr>\n",
              "    <tr>\n",
              "      <th>1</th>\n",
              "      <td>92.0</td>\n",
              "      <td>0.0</td>\n",
              "      <td>2000</td>\n",
              "      <td>0.87</td>\n",
              "      <td>0.683</td>\n",
              "      <td>1</td>\n",
              "      <td>0.9</td>\n",
              "      <td>0.0</td>\n",
              "      <td>1281.0</td>\n",
              "      <td>1.0</td>\n",
              "    </tr>\n",
              "    <tr>\n",
              "      <th>2</th>\n",
              "      <td>94.0</td>\n",
              "      <td>0.0</td>\n",
              "      <td>1997</td>\n",
              "      <td>4.36</td>\n",
              "      <td>3.850</td>\n",
              "      <td>10</td>\n",
              "      <td>1.4</td>\n",
              "      <td>0.0</td>\n",
              "      <td>69.0</td>\n",
              "      <td>1.0</td>\n",
              "    </tr>\n",
              "    <tr>\n",
              "      <th>3</th>\n",
              "      <td>92.0</td>\n",
              "      <td>0.0</td>\n",
              "      <td>1996</td>\n",
              "      <td>2.42</td>\n",
              "      <td>2.220</td>\n",
              "      <td>9</td>\n",
              "      <td>1.0</td>\n",
              "      <td>0.0</td>\n",
              "      <td>115.0</td>\n",
              "      <td>1.0</td>\n",
              "    </tr>\n",
              "    <tr>\n",
              "      <th>5</th>\n",
              "      <td>90.0</td>\n",
              "      <td>0.0</td>\n",
              "      <td>1997</td>\n",
              "      <td>2.01</td>\n",
              "      <td>1.860</td>\n",
              "      <td>9</td>\n",
              "      <td>1.0</td>\n",
              "      <td>0.0</td>\n",
              "      <td>1355.0</td>\n",
              "      <td>1.0</td>\n",
              "    </tr>\n",
              "  </tbody>\n",
              "</table>\n",
              "</div>\n",
              "      <button class=\"colab-df-convert\" onclick=\"convertToInteractive('df-577c288e-da35-4604-b613-ce30a708658e')\"\n",
              "              title=\"Convert this dataframe to an interactive table.\"\n",
              "              style=\"display:none;\">\n",
              "        \n",
              "  <svg xmlns=\"http://www.w3.org/2000/svg\" height=\"24px\"viewBox=\"0 0 24 24\"\n",
              "       width=\"24px\">\n",
              "    <path d=\"M0 0h24v24H0V0z\" fill=\"none\"/>\n",
              "    <path d=\"M18.56 5.44l.94 2.06.94-2.06 2.06-.94-2.06-.94-.94-2.06-.94 2.06-2.06.94zm-11 1L8.5 8.5l.94-2.06 2.06-.94-2.06-.94L8.5 2.5l-.94 2.06-2.06.94zm10 10l.94 2.06.94-2.06 2.06-.94-2.06-.94-.94-2.06-.94 2.06-2.06.94z\"/><path d=\"M17.41 7.96l-1.37-1.37c-.4-.4-.92-.59-1.43-.59-.52 0-1.04.2-1.43.59L10.3 9.45l-7.72 7.72c-.78.78-.78 2.05 0 2.83L4 21.41c.39.39.9.59 1.41.59.51 0 1.02-.2 1.41-.59l7.78-7.78 2.81-2.81c.8-.78.8-2.07 0-2.86zM5.41 20L4 18.59l7.72-7.72 1.47 1.35L5.41 20z\"/>\n",
              "  </svg>\n",
              "      </button>\n",
              "      \n",
              "  <style>\n",
              "    .colab-df-container {\n",
              "      display:flex;\n",
              "      flex-wrap:wrap;\n",
              "      gap: 12px;\n",
              "    }\n",
              "\n",
              "    .colab-df-convert {\n",
              "      background-color: #E8F0FE;\n",
              "      border: none;\n",
              "      border-radius: 50%;\n",
              "      cursor: pointer;\n",
              "      display: none;\n",
              "      fill: #1967D2;\n",
              "      height: 32px;\n",
              "      padding: 0 0 0 0;\n",
              "      width: 32px;\n",
              "    }\n",
              "\n",
              "    .colab-df-convert:hover {\n",
              "      background-color: #E2EBFA;\n",
              "      box-shadow: 0px 1px 2px rgba(60, 64, 67, 0.3), 0px 1px 3px 1px rgba(60, 64, 67, 0.15);\n",
              "      fill: #174EA6;\n",
              "    }\n",
              "\n",
              "    [theme=dark] .colab-df-convert {\n",
              "      background-color: #3B4455;\n",
              "      fill: #D2E3FC;\n",
              "    }\n",
              "\n",
              "    [theme=dark] .colab-df-convert:hover {\n",
              "      background-color: #434B5C;\n",
              "      box-shadow: 0px 1px 3px 1px rgba(0, 0, 0, 0.15);\n",
              "      filter: drop-shadow(0px 1px 2px rgba(0, 0, 0, 0.3));\n",
              "      fill: #FFFFFF;\n",
              "    }\n",
              "  </style>\n",
              "\n",
              "      <script>\n",
              "        const buttonEl =\n",
              "          document.querySelector('#df-577c288e-da35-4604-b613-ce30a708658e button.colab-df-convert');\n",
              "        buttonEl.style.display =\n",
              "          google.colab.kernel.accessAllowed ? 'block' : 'none';\n",
              "\n",
              "        async function convertToInteractive(key) {\n",
              "          const element = document.querySelector('#df-577c288e-da35-4604-b613-ce30a708658e');\n",
              "          const dataTable =\n",
              "            await google.colab.kernel.invokeFunction('convertToInteractive',\n",
              "                                                     [key], {});\n",
              "          if (!dataTable) return;\n",
              "\n",
              "          const docLinkHtml = 'Like what you see? Visit the ' +\n",
              "            '<a target=\"_blank\" href=https://colab.research.google.com/notebooks/data_table.ipynb>data table notebook</a>'\n",
              "            + ' to learn more about interactive tables.';\n",
              "          element.innerHTML = '';\n",
              "          dataTable['output_type'] = 'display_data';\n",
              "          await google.colab.output.renderOutput(dataTable, element);\n",
              "          const docLink = document.createElement('div');\n",
              "          docLink.innerHTML = docLinkHtml;\n",
              "          element.appendChild(docLink);\n",
              "        }\n",
              "      </script>\n",
              "    </div>\n",
              "  </div>\n",
              "  "
            ]
          },
          "metadata": {},
          "execution_count": 5
        }
      ]
    },
    {
      "cell_type": "code",
      "source": [
        "x_cols = ['age','sex','sample.yr','kappa','lambda','flc.grp','creatinine',\n",
        "          'mgus']\n",
        "x_train = df_train[x_cols]\n",
        "x_test = df_test[x_cols]\n",
        "x_val = df_test[x_cols]"
      ],
      "metadata": {
        "id": "rwxP21FI1CJq"
      },
      "execution_count": null,
      "outputs": []
    },
    {
      "cell_type": "code",
      "source": [
        "# convert outcome into structured array for compatibility with sksurv models\n",
        "to_y = lambda df: np.array(df.apply(lambda x: (x[9],x[8]),axis=1),\n",
        "                                 dtype=[('death','bool'),('futime','<f4')])\n",
        "\n",
        "y_train = to_y(df_train)\n",
        "y_test = to_y(df_test)"
      ],
      "metadata": {
        "id": "Cn0C7lGi7EAJ"
      },
      "execution_count": null,
      "outputs": []
    },
    {
      "cell_type": "markdown",
      "source": [
        "# Random Survival Forest"
      ],
      "metadata": {
        "id": "TzpsjVRXR65N"
      }
    },
    {
      "cell_type": "code",
      "source": [
        "train_score = np.zeros(40)\n",
        "test_score = np.zeros(40)\n",
        "lower, upper = np.percentile(y_test['futime'],[10,90])\n",
        "times = np.arange(lower,upper+1)\n",
        "max_leaf = np.concatenate(([10],np.arange(100,2001,100),np.repeat(2000,19)))\n",
        "n_tree = np.concatenate((np.repeat(1,20),np.arange(1,21)))\n",
        "\n",
        "for i in range(0,40):\n",
        "  rsf = RandomSurvivalForest(n_estimators=n_tree[i],max_leaf_nodes=max_leaf[i],\n",
        "                             n_jobs=-1,random_state=1)\n",
        "  model = as_integrated_brier_score_scorer(rsf,times).fit(x_train,y_train)\n",
        "  train_score[i] = model.score(x_train,y_train) * -1\n",
        "  test_score[i] = model.score(x_test,y_test) * -1\n",
        "  print(f'n trees: {n_tree[i]:2} | max leaves: {max_leaf[i]:4} | \\\n",
        "  train score: {train_score[i]:.04} | test score: {test_score[i]:.04}')"
      ],
      "metadata": {
        "colab": {
          "base_uri": "https://localhost:8080/"
        },
        "id": "qfYbUDFlgxE3",
        "outputId": "5db1f0d9-1cdb-4c17-ce50-4efe0b67e2fe"
      },
      "execution_count": null,
      "outputs": [
        {
          "output_type": "stream",
          "name": "stdout",
          "text": [
            "n trees:    1 | max leaves: 10 |   train loss: 0.1232 | test loss: 0.1188\n",
            "n trees:    1 | max leaves: 100 |   train loss: 0.1127 | test loss: 0.125\n",
            "n trees:    1 | max leaves: 200 |   train loss: 0.1086 | test loss: 0.1372\n",
            "n trees:    1 | max leaves: 300 |   train loss: 0.1074 | test loss: 0.149\n",
            "n trees:    1 | max leaves: 400 |   train loss: 0.1061 | test loss: 0.1564\n",
            "n trees:    1 | max leaves: 500 |   train loss: 0.1037 | test loss: 0.1615\n",
            "n trees:    1 | max leaves: 600 |   train loss: 0.1019 | test loss: 0.1665\n",
            "n trees:    1 | max leaves: 700 |   train loss: 0.1019 | test loss: 0.1665\n",
            "n trees:    1 | max leaves: 800 |   train loss: 0.1019 | test loss: 0.1665\n",
            "n trees:    1 | max leaves: 900 |   train loss: 0.1019 | test loss: 0.1665\n",
            "n trees:    1 | max leaves: 1000 |   train loss: 0.1019 | test loss: 0.1665\n",
            "n trees:    1 | max leaves: 1100 |   train loss: 0.1019 | test loss: 0.1665\n",
            "n trees:    1 | max leaves: 1200 |   train loss: 0.1019 | test loss: 0.1665\n",
            "n trees:    1 | max leaves: 1300 |   train loss: 0.1019 | test loss: 0.1665\n",
            "n trees:    1 | max leaves: 1400 |   train loss: 0.1019 | test loss: 0.1665\n",
            "n trees:    1 | max leaves: 1500 |   train loss: 0.1019 | test loss: 0.1665\n",
            "n trees:    1 | max leaves: 1600 |   train loss: 0.1019 | test loss: 0.1665\n",
            "n trees:    1 | max leaves: 1700 |   train loss: 0.1019 | test loss: 0.1665\n",
            "n trees:    1 | max leaves: 1800 |   train loss: 0.1019 | test loss: 0.1665\n",
            "n trees:    1 | max leaves: 1900 |   train loss: 0.1019 | test loss: 0.1665\n",
            "n trees:    1 | max leaves: 2000 |   train loss: 0.1019 | test loss: 0.1665\n",
            "n trees:    2 | max leaves: 2000 |   train loss: 0.08089 | test loss: 0.1429\n",
            "n trees:    3 | max leaves: 2000 |   train loss: 0.07551 | test loss: 0.1287\n",
            "n trees:    4 | max leaves: 2000 |   train loss: 0.07341 | test loss: 0.1225\n",
            "n trees:    5 | max leaves: 2000 |   train loss: 0.07191 | test loss: 0.119\n",
            "n trees:    6 | max leaves: 2000 |   train loss: 0.0706 | test loss: 0.1171\n",
            "n trees:    7 | max leaves: 2000 |   train loss: 0.06957 | test loss: 0.1167\n",
            "n trees:    8 | max leaves: 2000 |   train loss: 0.06882 | test loss: 0.1164\n",
            "n trees:    9 | max leaves: 2000 |   train loss: 0.06871 | test loss: 0.1155\n",
            "n trees:   10 | max leaves: 2000 |   train loss: 0.06826 | test loss: 0.1149\n",
            "n trees:   11 | max leaves: 2000 |   train loss: 0.06784 | test loss: 0.1147\n",
            "n trees:   12 | max leaves: 2000 |   train loss: 0.06794 | test loss: 0.1146\n",
            "n trees:   13 | max leaves: 2000 |   train loss: 0.06767 | test loss: 0.1141\n",
            "n trees:   14 | max leaves: 2000 |   train loss: 0.06742 | test loss: 0.1141\n",
            "n trees:   15 | max leaves: 2000 |   train loss: 0.06725 | test loss: 0.1139\n",
            "n trees:   16 | max leaves: 2000 |   train loss: 0.06731 | test loss: 0.1138\n",
            "n trees:   17 | max leaves: 2000 |   train loss: 0.06721 | test loss: 0.1139\n",
            "n trees:   18 | max leaves: 2000 |   train loss: 0.06712 | test loss: 0.1139\n",
            "n trees:   19 | max leaves: 2000 |   train loss: 0.06713 | test loss: 0.1138\n",
            "n trees:   20 | max leaves: 2000 |   train loss: 0.06709 | test loss: 0.1136\n"
          ]
        }
      ]
    },
    {
      "cell_type": "code",
      "source": [
        "plt.plot(np.arange(0,40),train_score,label='Train Score')\n",
        "plt.plot(np.arange(0,40),test_score,label='Test Score')\n",
        "plt.ylabel('Integrated Brier Score')\n",
        "plt.xticks([0,10,20,29,39],['10/1','1000/1','2000/1','2000/10','2000/20'])\n",
        "plt.xlabel('Max no. of leaves / Number of trees')\n",
        "plt.legend()"
      ],
      "metadata": {
        "colab": {
          "base_uri": "https://localhost:8080/",
          "height": 467
        },
        "id": "w0D1N_-2oeVy",
        "outputId": "d60eb83e-bac2-4a9e-8de8-a41c656b1c9a"
      },
      "execution_count": null,
      "outputs": [
        {
          "output_type": "execute_result",
          "data": {
            "text/plain": [
              "<matplotlib.legend.Legend at 0x7f76e494bd90>"
            ]
          },
          "metadata": {},
          "execution_count": 16
        },
        {
          "output_type": "display_data",
          "data": {
            "text/plain": [
              "<Figure size 640x480 with 1 Axes>"
            ],
            "image/png": "[encoded data removed]"
          },
          "metadata": {}
        }
      ]
    },
    {
      "cell_type": "markdown",
      "source": [
        "# Gradient Boosting Survival Analysis"
      ],
      "metadata": {
        "id": "R1ewHBkWWW_W"
      }
    },
    {
      "cell_type": "code",
      "source": [
        "param_grid = {'learning_rate': [0.0001,0.001,0.01,0.1,0.2,0.3]}\n",
        "gbs = GradientBoostingSurvivalAnalysis(random_state=1)\n",
        "\n",
        "def score_gb(model,x,y):\n",
        "  survs = model.predict_survival_function(x)\n",
        "  lower, upper = np.percentile(y['futime'],[10,90])\n",
        "  times = np.arange(lower,upper+1)\n",
        "  preds = np.asarray([[fn(t) for t in times] for fn in survs])\n",
        "  return integrated_brier_score(y,y,preds,times)\n",
        "\n",
        "gcv = GridSearchCV(gbs,param_grid,scoring=score_gb,n_jobs=-1)\n",
        "gcv.fit(x_train,y_train)"
      ],
      "metadata": {
        "colab": {
          "base_uri": "https://localhost:8080/",
          "height": 116
        },
        "id": "c775dtsXZX2t",
        "outputId": "9510e769-55f4-4add-b58a-35736fbad879"
      },
      "execution_count": null,
      "outputs": [
        {
          "output_type": "execute_result",
          "data": {
            "text/plain": [
              "GridSearchCV(estimator=GradientBoostingSurvivalAnalysis(random_state=1),\n",
              "             n_jobs=-1,\n",
              "             param_grid={'learning_rate': [0.0001, 0.001, 0.01, 0.1, 0.2, 0.3]},\n",
              "             scoring=<function score_gb at 0x7f0a5ba13c70>)"
            ],
            "text/html": [
              "<style>#sk-container-id-1 {color: black;background-color: white;}#sk-container-id-1 pre{padding: 0;}#sk-container-id-1 div.sk-toggleable {background-color: white;}#sk-container-id-1 label.sk-toggleable__label {cursor: pointer;display: block;width: 100%;margin-bottom: 0;padding: 0.3em;box-sizing: border-box;text-align: center;}#sk-container-id-1 label.sk-toggleable__label-arrow:before {content: \"▸\";float: left;margin-right: 0.25em;color: #696969;}#sk-container-id-1 label.sk-toggleable__label-arrow:hover:before {color: black;}#sk-container-id-1 div.sk-estimator:hover label.sk-toggleable__label-arrow:before {color: black;}#sk-container-id-1 div.sk-toggleable__content {max-height: 0;max-width: 0;overflow: hidden;text-align: left;background-color: #f0f8ff;}#sk-container-id-1 div.sk-toggleable__content pre {margin: 0.2em;color: black;border-radius: 0.25em;background-color: #f0f8ff;}#sk-container-id-1 input.sk-toggleable__control:checked~div.sk-toggleable__content {max-height: 200px;max-width: 100%;overflow: auto;}#sk-container-id-1 input.sk-toggleable__control:checked~label.sk-toggleable__label-arrow:before {content: \"▾\";}#sk-container-id-1 div.sk-estimator input.sk-toggleable__control:checked~label.sk-toggleable__label {background-color: #d4ebff;}#sk-container-id-1 div.sk-label input.sk-toggleable__control:checked~label.sk-toggleable__label {background-color: #d4ebff;}#sk-container-id-1 input.sk-hidden--visually {border: 0;clip: rect(1px 1px 1px 1px);clip: rect(1px, 1px, 1px, 1px);height: 1px;margin: -1px;overflow: hidden;padding: 0;position: absolute;width: 1px;}#sk-container-id-1 div.sk-estimator {font-family: monospace;background-color: #f0f8ff;border: 1px dotted black;border-radius: 0.25em;box-sizing: border-box;margin-bottom: 0.5em;}#sk-container-id-1 div.sk-estimator:hover {background-color: #d4ebff;}#sk-container-id-1 div.sk-parallel-item::after {content: \"\";width: 100%;border-bottom: 1px solid gray;flex-grow: 1;}#sk-container-id-1 div.sk-label:hover label.sk-toggleable__label {background-color: #d4ebff;}#sk-container-id-1 div.sk-serial::before {content: \"\";position: absolute;border-left: 1px solid gray;box-sizing: border-box;top: 0;bottom: 0;left: 50%;z-index: 0;}#sk-container-id-1 div.sk-serial {display: flex;flex-direction: column;align-items: center;background-color: white;padding-right: 0.2em;padding-left: 0.2em;position: relative;}#sk-container-id-1 div.sk-item {position: relative;z-index: 1;}#sk-container-id-1 div.sk-parallel {display: flex;align-items: stretch;justify-content: center;background-color: white;position: relative;}#sk-container-id-1 div.sk-item::before, #sk-container-id-1 div.sk-parallel-item::before {content: \"\";position: absolute;border-left: 1px solid gray;box-sizing: border-box;top: 0;bottom: 0;left: 50%;z-index: -1;}#sk-container-id-1 div.sk-parallel-item {display: flex;flex-direction: column;z-index: 1;position: relative;background-color: white;}#sk-container-id-1 div.sk-parallel-item:first-child::after {align-self: flex-end;width: 50%;}#sk-container-id-1 div.sk-parallel-item:last-child::after {align-self: flex-start;width: 50%;}#sk-container-id-1 div.sk-parallel-item:only-child::after {width: 0;}#sk-container-id-1 div.sk-dashed-wrapped {border: 1px dashed gray;margin: 0 0.4em 0.5em 0.4em;box-sizing: border-box;padding-bottom: 0.4em;background-color: white;}#sk-container-id-1 div.sk-label label {font-family: monospace;font-weight: bold;display: inline-block;line-height: 1.2em;}#sk-container-id-1 div.sk-label-container {text-align: center;}#sk-container-id-1 div.sk-container {/* jupyter's `normalize.less` sets `[hidden] { display: none; }` but bootstrap.min.css set `[hidden] { display: none !important; }` so we also need the `!important` here to be able to override the default hidden behavior on the sphinx rendered scikit-learn.org. See: https://github.com/scikit-learn/scikit-learn/issues/21755 */display: inline-block !important;position: relative;}#sk-container-id-1 div.sk-text-repr-fallback {display: none;}</style><div id=\"sk-container-id-1\" class=\"sk-top-container\"><div class=\"sk-text-repr-fallback\"><pre>GridSearchCV(estimator=GradientBoostingSurvivalAnalysis(random_state=1),\n",
              "             n_jobs=-1,\n",
              "             param_grid={&#x27;learning_rate&#x27;: [0.0001, 0.001, 0.01, 0.1, 0.2, 0.3]},\n",
              "             scoring=&lt;function score_gb at 0x7f0a5ba13c70&gt;)</pre><b>In a Jupyter environment, please rerun this cell to show the HTML representation or trust the notebook. <br />On GitHub, the HTML representation is unable to render, please try loading this page with nbviewer.org.</b></div><div class=\"sk-container\" hidden><div class=\"sk-item sk-dashed-wrapped\"><div class=\"sk-label-container\"><div class=\"sk-label sk-toggleable\"><input class=\"sk-toggleable__control sk-hidden--visually\" id=\"sk-estimator-id-1\" type=\"checkbox\" ><label for=\"sk-estimator-id-1\" class=\"sk-toggleable__label sk-toggleable__label-arrow\">GridSearchCV</label><div class=\"sk-toggleable__content\"><pre>GridSearchCV(estimator=GradientBoostingSurvivalAnalysis(random_state=1),\n",
              "             n_jobs=-1,\n",
              "             param_grid={&#x27;learning_rate&#x27;: [0.0001, 0.001, 0.01, 0.1, 0.2, 0.3]},\n",
              "             scoring=&lt;function score_gb at 0x7f0a5ba13c70&gt;)</pre></div></div></div><div class=\"sk-parallel\"><div class=\"sk-parallel-item\"><div class=\"sk-item\"><div class=\"sk-label-container\"><div class=\"sk-label sk-toggleable\"><input class=\"sk-toggleable__control sk-hidden--visually\" id=\"sk-estimator-id-2\" type=\"checkbox\" ><label for=\"sk-estimator-id-2\" class=\"sk-toggleable__label sk-toggleable__label-arrow\">estimator: GradientBoostingSurvivalAnalysis</label><div class=\"sk-toggleable__content\"><pre>GradientBoostingSurvivalAnalysis(random_state=1)</pre></div></div></div><div class=\"sk-serial\"><div class=\"sk-item\"><div class=\"sk-estimator sk-toggleable\"><input class=\"sk-toggleable__control sk-hidden--visually\" id=\"sk-estimator-id-3\" type=\"checkbox\" ><label for=\"sk-estimator-id-3\" class=\"sk-toggleable__label sk-toggleable__label-arrow\">GradientBoostingSurvivalAnalysis</label><div class=\"sk-toggleable__content\"><pre>GradientBoostingSurvivalAnalysis(random_state=1)</pre></div></div></div></div></div></div></div></div></div></div>"
            ]
          },
          "metadata": {},
          "execution_count": 8
        }
      ]
    },
    {
      "cell_type": "code",
      "source": [
        "gcv.cv_results_"
      ],
      "metadata": {
        "colab": {
          "base_uri": "https://localhost:8080/"
        },
        "id": "O2rMoKJewK8i",
        "outputId": "9a3bd15e-cc44-4395-923f-592ed3e04fef"
      },
      "execution_count": null,
      "outputs": [
        {
          "output_type": "execute_result",
          "data": {
            "text/plain": [
              "{'mean_fit_time': array([47.95601835, 47.92200909, 46.73767953, 46.95858359, 47.35197935,\n",
              "        48.1081768 ]),\n",
              " 'std_fit_time': array([1.05334254, 1.69981225, 1.44103004, 1.61137762, 1.61390255,\n",
              "        2.37784579]),\n",
              " 'mean_score_time': array([379.47074242, 373.85871644, 375.0964622 , 373.53162622,\n",
              "        374.05747833, 356.77103329]),\n",
              " 'std_score_time': array([102.20762779, 104.14775036, 101.69814253, 104.54294563,\n",
              "        103.4196606 , 124.58801722]),\n",
              " 'param_learning_rate': masked_array(data=[0.0001, 0.001, 0.01, 0.1, 0.2, 0.3],\n",
              "              mask=[False, False, False, False, False, False],\n",
              "        fill_value='?',\n",
              "             dtype=object),\n",
              " 'params': [{'learning_rate': 0.0001},\n",
              "  {'learning_rate': 0.001},\n",
              "  {'learning_rate': 0.01},\n",
              "  {'learning_rate': 0.1},\n",
              "  {'learning_rate': 0.2},\n",
              "  {'learning_rate': 0.3}],\n",
              " 'split0_test_score': array([0.3630206 , 0.35719637, 0.29946651, 0.20167126, 0.20536167,\n",
              "        0.21369431]),\n",
              " 'split1_test_score': array([0.18867666, 0.1879416 , 0.18312195, 0.17604868, 0.17568318,\n",
              "        0.17491053]),\n",
              " 'split2_test_score': array([0.13803566, 0.1371537 , 0.12996829, 0.11833877, 0.11787518,\n",
              "        0.117334  ]),\n",
              " 'split3_test_score': array([0.1305449 , 0.12851586, 0.11156814, 0.08312723, 0.08210886,\n",
              "        0.08163523]),\n",
              " 'split4_test_score': array([0.12545876, 0.12308691, 0.10323619, 0.06234196, 0.06034306,\n",
              "        0.06080184]),\n",
              " 'mean_test_score': array([0.18914732, 0.18677889, 0.16547222, 0.12830558, 0.12827439,\n",
              "        0.12967518]),\n",
              " 'std_test_score': array([0.0898165 , 0.08826934, 0.07253342, 0.05320441, 0.05485273,\n",
              "        0.0571124 ]),\n",
              " 'rank_test_score': array([1, 2, 3, 5, 6, 4], dtype=int32)}"
            ]
          },
          "metadata": {},
          "execution_count": 18
        }
      ]
    },
    {
      "cell_type": "code",
      "source": [
        "train_score = np.zeros(70)\n",
        "test_score = np.zeros(70)\n",
        "lower, upper = np.percentile(y_test['futime'],[10,90])\n",
        "times = np.arange(lower,upper+1)\n",
        "max_leaf = np.concatenate(([10],np.arange(100,2001,100),np.repeat(2000,49)))\n",
        "n_tree = np.concatenate((np.repeat(1,20),np.arange(2,101,2)))\n",
        "\n",
        "for i in range(0,70):\n",
        "  gsb = GradientBoostingSurvivalAnalysis(learning_rate=0.2,\n",
        "                                         n_estimators=n_tree[i],\n",
        "                                         max_leaf_nodes=max_leaf[i],\n",
        "                                         random_state=1)\n",
        "  model = as_integrated_brier_score_scorer(gsb,times).fit(x_train,y_train)\n",
        "  train_score[i] = model.score(x_train,y_train) * -1\n",
        "  test_score[i] = model.score(x_test,y_test) * -1\n",
        "  print(f'n trees: {n_tree[i]:2} | max leaves: {max_leaf[i]:4} | \\\n",
        "  train loss: {train_score[i]:.04} | test loss: {test_score[i]:.04}')"
      ],
      "metadata": {
        "colab": {
          "base_uri": "https://localhost:8080/"
        },
        "id": "2cOYH3ASXyJQ",
        "outputId": "4692753a-7bf2-442a-a289-b535534f227d"
      },
      "execution_count": null,
      "outputs": [
        {
          "output_type": "stream",
          "name": "stdout",
          "text": [
            "n trees:  1 | max leaves:   10 |   train loss: 0.1586 | test loss: 0.156\n",
            "n trees:  1 | max leaves:  100 |   train loss: 0.1586 | test loss: 0.156\n",
            "n trees:  1 | max leaves:  200 |   train loss: 0.1586 | test loss: 0.156\n",
            "n trees:  1 | max leaves:  300 |   train loss: 0.1586 | test loss: 0.156\n",
            "n trees:  1 | max leaves:  400 |   train loss: 0.1586 | test loss: 0.156\n",
            "n trees:  1 | max leaves:  500 |   train loss: 0.1586 | test loss: 0.156\n",
            "n trees:  1 | max leaves:  600 |   train loss: 0.1586 | test loss: 0.156\n",
            "n trees:  1 | max leaves:  700 |   train loss: 0.1586 | test loss: 0.156\n",
            "n trees:  1 | max leaves:  800 |   train loss: 0.1586 | test loss: 0.156\n",
            "n trees:  1 | max leaves:  900 |   train loss: 0.1586 | test loss: 0.156\n",
            "n trees:  1 | max leaves: 1000 |   train loss: 0.1586 | test loss: 0.156\n",
            "n trees:  1 | max leaves: 1100 |   train loss: 0.1586 | test loss: 0.156\n",
            "n trees:  1 | max leaves: 1200 |   train loss: 0.1586 | test loss: 0.156\n",
            "n trees:  1 | max leaves: 1300 |   train loss: 0.1586 | test loss: 0.156\n",
            "n trees:  1 | max leaves: 1400 |   train loss: 0.1586 | test loss: 0.156\n",
            "n trees:  1 | max leaves: 1500 |   train loss: 0.1586 | test loss: 0.156\n",
            "n trees:  1 | max leaves: 1600 |   train loss: 0.1586 | test loss: 0.156\n",
            "n trees:  1 | max leaves: 1700 |   train loss: 0.1586 | test loss: 0.156\n",
            "n trees:  1 | max leaves: 1800 |   train loss: 0.1586 | test loss: 0.156\n",
            "n trees:  1 | max leaves: 1900 |   train loss: 0.1586 | test loss: 0.156\n",
            "n trees:  2 | max leaves: 2000 |   train loss: 0.1537 | test loss: 0.1512\n",
            "n trees:  4 | max leaves: 2000 |   train loss: 0.1445 | test loss: 0.142\n",
            "n trees:  6 | max leaves: 2000 |   train loss: 0.1368 | test loss: 0.1341\n",
            "n trees:  8 | max leaves: 2000 |   train loss: 0.1308 | test loss: 0.1281\n",
            "n trees: 10 | max leaves: 2000 |   train loss: 0.1262 | test loss: 0.1234\n",
            "n trees: 12 | max leaves: 2000 |   train loss: 0.1229 | test loss: 0.12\n",
            "n trees: 14 | max leaves: 2000 |   train loss: 0.1203 | test loss: 0.1173\n",
            "n trees: 16 | max leaves: 2000 |   train loss: 0.1185 | test loss: 0.1154\n",
            "n trees: 18 | max leaves: 2000 |   train loss: 0.117 | test loss: 0.1138\n",
            "n trees: 20 | max leaves: 2000 |   train loss: 0.116 | test loss: 0.1126\n",
            "n trees: 22 | max leaves: 2000 |   train loss: 0.1152 | test loss: 0.1117\n",
            "n trees: 24 | max leaves: 2000 |   train loss: 0.1145 | test loss: 0.1109\n",
            "n trees: 26 | max leaves: 2000 |   train loss: 0.1139 | test loss: 0.1104\n",
            "n trees: 28 | max leaves: 2000 |   train loss: 0.1135 | test loss: 0.1101\n",
            "n trees: 30 | max leaves: 2000 |   train loss: 0.1131 | test loss: 0.1097\n",
            "n trees: 32 | max leaves: 2000 |   train loss: 0.1128 | test loss: 0.1095\n",
            "n trees: 34 | max leaves: 2000 |   train loss: 0.1125 | test loss: 0.1093\n",
            "n trees: 36 | max leaves: 2000 |   train loss: 0.1122 | test loss: 0.1091\n",
            "n trees: 38 | max leaves: 2000 |   train loss: 0.112 | test loss: 0.1089\n",
            "n trees: 40 | max leaves: 2000 |   train loss: 0.1118 | test loss: 0.1088\n",
            "n trees: 42 | max leaves: 2000 |   train loss: 0.1116 | test loss: 0.1087\n",
            "n trees: 44 | max leaves: 2000 |   train loss: 0.1115 | test loss: 0.1086\n",
            "n trees: 46 | max leaves: 2000 |   train loss: 0.1113 | test loss: 0.1085\n",
            "n trees: 48 | max leaves: 2000 |   train loss: 0.1112 | test loss: 0.1085\n",
            "n trees: 50 | max leaves: 2000 |   train loss: 0.1111 | test loss: 0.1084\n",
            "n trees: 52 | max leaves: 2000 |   train loss: 0.1108 | test loss: 0.1083\n",
            "n trees: 54 | max leaves: 2000 |   train loss: 0.1105 | test loss: 0.1083\n",
            "n trees: 56 | max leaves: 2000 |   train loss: 0.1104 | test loss: 0.1083\n",
            "n trees: 58 | max leaves: 2000 |   train loss: 0.1103 | test loss: 0.1083\n",
            "n trees: 60 | max leaves: 2000 |   train loss: 0.1102 | test loss: 0.1083\n",
            "n trees: 62 | max leaves: 2000 |   train loss: 0.11 | test loss: 0.1082\n",
            "n trees: 64 | max leaves: 2000 |   train loss: 0.1099 | test loss: 0.1082\n",
            "n trees: 66 | max leaves: 2000 |   train loss: 0.1098 | test loss: 0.1081\n",
            "n trees: 68 | max leaves: 2000 |   train loss: 0.1097 | test loss: 0.108\n",
            "n trees: 70 | max leaves: 2000 |   train loss: 0.1095 | test loss: 0.108\n",
            "n trees: 72 | max leaves: 2000 |   train loss: 0.1094 | test loss: 0.1079\n",
            "n trees: 74 | max leaves: 2000 |   train loss: 0.1093 | test loss: 0.1079\n",
            "n trees: 76 | max leaves: 2000 |   train loss: 0.1091 | test loss: 0.108\n",
            "n trees: 78 | max leaves: 2000 |   train loss: 0.109 | test loss: 0.1079\n",
            "n trees: 80 | max leaves: 2000 |   train loss: 0.1089 | test loss: 0.108\n",
            "n trees: 82 | max leaves: 2000 |   train loss: 0.1088 | test loss: 0.108\n",
            "n trees: 84 | max leaves: 2000 |   train loss: 0.1087 | test loss: 0.108\n",
            "n trees: 86 | max leaves: 2000 |   train loss: 0.1086 | test loss: 0.1079\n",
            "n trees: 88 | max leaves: 2000 |   train loss: 0.1085 | test loss: 0.108\n",
            "n trees: 90 | max leaves: 2000 |   train loss: 0.1084 | test loss: 0.108\n",
            "n trees: 92 | max leaves: 2000 |   train loss: 0.1083 | test loss: 0.1079\n",
            "n trees: 94 | max leaves: 2000 |   train loss: 0.1082 | test loss: 0.1079\n",
            "n trees: 96 | max leaves: 2000 |   train loss: 0.1081 | test loss: 0.1079\n",
            "n trees: 98 | max leaves: 2000 |   train loss: 0.1079 | test loss: 0.1079\n",
            "n trees: 100 | max leaves: 2000 |   train loss: 0.1078 | test loss: 0.1079\n"
          ]
        }
      ]
    },
    {
      "cell_type": "code",
      "source": [
        "plt.plot(np.arange(0,70),train_score,label='Train Score')\n",
        "plt.plot(np.arange(0,70),test_score,label='Test Score')\n",
        "plt.ylabel('Integrated Brier Score')\n",
        "plt.xticks([0,10,20,29,39,49,59,69],\n",
        " ['10/1','1000/1','2000/1','2000/20','2000/40','2000/60','2000/80','2000/100'])\n",
        "plt.tick_params(axis='x', which='major', labelsize=10)\n",
        "plt.xlabel('Max no. of leaves / Number of trees')\n",
        "plt.title('Gradient Boosting Survival Analysis Learning Curve')\n",
        "plt.legend()"
      ],
      "metadata": {
        "colab": {
          "base_uri": "https://localhost:8080/",
          "height": 497
        },
        "id": "dR1cyCdsuPy4",
        "outputId": "c5d126f9-70a5-4ca2-dddc-668d81ae9779"
      },
      "execution_count": null,
      "outputs": [
        {
          "output_type": "execute_result",
          "data": {
            "text/plain": [
              "<matplotlib.legend.Legend at 0x7f0a48143220>"
            ]
          },
          "metadata": {},
          "execution_count": 53
        },
        {
          "output_type": "display_data",
          "data": {
            "text/plain": [
              "<Figure size 640x480 with 1 Axes>"
            ],
            "image/png": "[encoded data removed]"
          },
          "metadata": {}
        }
      ]
    }
  ]
}